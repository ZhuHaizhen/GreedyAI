{
 "cells": [
  {
   "cell_type": "markdown",
   "metadata": {
    "collapsed": true,
    "pycharm": {
     "name": "#%% md\n"
    }
   },
   "source": [
    "## 从零开始自己写一个KNN算法\n"
   ]
  },
  {
   "cell_type": "code",
   "execution_count": 1,
   "outputs": [],
   "source": [
    "from sklearn import datasets\n",
    "from collections import Counter\n",
    "from sklearn.model_selection import train_test_split\n",
    "import numpy as np\n",
    "\n",
    "iris = datasets.load_iris()\n",
    "X = iris.data\n",
    "y = iris.target\n",
    "X_train, X_test, y_train, y_test = train_test_split(X, y, random_state=2003)"
   ],
   "metadata": {
    "collapsed": false,
    "pycharm": {
     "name": "#%%\n"
    }
   }
  },
  {
   "cell_type": "code",
   "execution_count": 2,
   "outputs": [],
   "source": [
    "def euc_dis(instance1, instance2):\n",
    "    dist = np.sqrt(sum((instance1 - instance2) ** 2))\n",
    "    return dist\n",
    "\n",
    "def knn_classify(X, y, testInstance, k):\n",
    "    # 时间复杂度： O(N) N: # of samples\n",
    "    distance = [euc_dis(x, testInstance) for x in X]\n",
    "    # O(NlogN) 优化：使用priority queue -> O(NlogK)\n",
    "    kneighbors = np.argsort(distance)[: k]\n",
    "    count = Counter(y[kneighbors])\n",
    "    return count.most_common()[0][0]"
   ],
   "metadata": {
    "collapsed": false,
    "pycharm": {
     "name": "#%%\n"
    }
   }
  },
  {
   "cell_type": "code",
   "execution_count": 3,
   "outputs": [
    {
     "name": "stdout",
     "output_type": "stream",
     "text": [
      "Accuracy is: 0.921\n"
     ]
    }
   ],
   "source": [
    "predictions = [knn_classify(X_train, y_train, data, 3) for data in X_test]\n",
    "correct = np.count_nonzero((predictions == y_test) == True)\n",
    "print('Accuracy is: {:.3f}'.format(correct / len(X_test)))"
   ],
   "metadata": {
    "collapsed": false,
    "pycharm": {
     "name": "#%%\n"
    }
   }
  },
  {
   "cell_type": "markdown",
   "source": [
    "## 调用KNN函数实现分类"
   ],
   "metadata": {
    "collapsed": false,
    "pycharm": {
     "name": "#%% md\n"
    }
   }
  },
  {
   "cell_type": "code",
   "execution_count": 4,
   "outputs": [
    {
     "data": {
      "text/plain": "0.9210526315789473"
     },
     "execution_count": 4,
     "metadata": {},
     "output_type": "execute_result"
    }
   ],
   "source": [
    "from sklearn.neighbors import KNeighborsClassifier\n",
    "from sklearn.metrics import accuracy_score\n",
    "\n",
    "clf = KNeighborsClassifier(n_neighbors=3)\n",
    "clf.fit(X_train, y_train)\n",
    "\n",
    "accuracy_score(y_test, clf.predict(X_test))"
   ],
   "metadata": {
    "collapsed": false,
    "pycharm": {
     "name": "#%%\n"
    }
   }
  },
  {
   "cell_type": "markdown",
   "source": [
    "## KNN用于回归"
   ],
   "metadata": {
    "collapsed": false
   }
  },
  {
   "cell_type": "code",
   "execution_count": null,
   "outputs": [],
   "source": [
    "import pandas as pd\n",
    "import matplotlib.pyplot as plt\n",
    "import seaborn as sns"
   ],
   "metadata": {
    "collapsed": false,
    "pycharm": {
     "name": "#%%\n"
    }
   }
  },
  {
   "cell_type": "code",
   "execution_count": null,
   "outputs": [],
   "source": [
    "df = pd.read_csv('data.csv')\n",
    "df\n"
   ],
   "metadata": {
    "collapsed": false,
    "pycharm": {
     "name": "#%%\n"
    }
   }
  },
  {
   "cell_type": "code",
   "execution_count": null,
   "outputs": [],
   "source": [
    "df_colors = df.Color.str.get_dummise().add_prefix('Color: ')\n",
    "df_type = df.Type.apply(str).str.get_dummies().add_prefix('Type: ')\n",
    "df = pd.concat([df, df_colors, df_type], axis=1)\n",
    "df = df.drop(['Brand', 'Type', 'Color'], axis=1)\n",
    "df\n"
   ],
   "metadata": {
    "collapsed": false,
    "pycharm": {
     "name": "#%%\n"
    }
   }
  },
  {
   "cell_type": "code",
   "execution_count": null,
   "outputs": [],
   "source": [
    "matrix = df.corr()\n",
    "f, ax = plt.subplot(figsize=(8, 6))\n",
    "sns.heatmap(matrix, square=True)\n",
    "plt.title('Car Price Variables')\n"
   ],
   "metadata": {
    "collapsed": false,
    "pycharm": {
     "name": "#%%\n"
    }
   }
  },
  {
   "cell_type": "code",
   "execution_count": null,
   "outputs": [],
   "source": [
    "from sklearn.neighbors import KNeighborsRegressor\n",
    "from sklearn.model_selection import train_test_split\n",
    "from sklearn.preprocessing import StandardScaler\n",
    "import numpy as np\n",
    "\n",
    "X = df[['Construction Year', 'Days Until MOT', 'Odometer']]\n",
    "y = df['Ask Price'].values.reshape(-1, 1)\n",
    "X_train, X_test, y_train, y_test = train_test_split(X, y, test_size=0.3, random_state=41)\n",
    "\n",
    "X_normalizer = StandardScaler() # 对数据进行标准归一化\n",
    "X_train = X_normalizer.fit_transform(X_train) # 数据转换只使用训练数据进行训练\n",
    "X_test = X_normalizer.transform(X_test) # 测试数据进行的转换过程需要与训练数据一致\n",
    "\n",
    "y_normalizer = StandardScaler()\n",
    "y_train = y_normalizer.fit_transform(y_train)\n",
    "y_test = y_normalizer.transform(y_test)\n",
    "\n",
    "knn = KNeighborsRegressor(n_neighbors=2)\n",
    "knn.fit(X_train, y_train.ravel())\n",
    "\n",
    "y_pred = knn.predict(X_test)\n",
    "y_pred_inv = y_normalizer.inverse_transform(y_pred) # 将标准化的数据转换回去\n",
    "y_test_inv = y_normalizer.inverse_transform(y_test)\n",
    "\n",
    "plt.scatter(y_pred_inv, y_test_inv)\n",
    "diagonal = np.linspace(500, 1500, 100)\n",
    "plt.plot(diagonal, diagonal, '-r')\n",
    "plt.xlabel('Predicted ask price')\n",
    "plt.ylabel('Ask price')\n",
    "plt.show()\n",
    "\n",
    "print(y_pred_inv)\n"
   ],
   "metadata": {
    "collapsed": false,
    "pycharm": {
     "name": "#%%\n"
    }
   }
  }
 ],
 "metadata": {
  "kernelspec": {
   "display_name": "Python 3",
   "language": "python",
   "name": "python3"
  },
  "language_info": {
   "codemirror_mode": {
    "name": "ipython",
    "version": 2
   },
   "file_extension": ".py",
   "mimetype": "text/x-python",
   "name": "python",
   "nbconvert_exporter": "python",
   "pygments_lexer": "ipython2",
   "version": "2.7.6"
  }
 },
 "nbformat": 4,
 "nbformat_minor": 0
}